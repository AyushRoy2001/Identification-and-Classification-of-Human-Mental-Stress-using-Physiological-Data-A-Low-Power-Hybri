{
 "cells": [
  {
   "cell_type": "code",
   "execution_count": 2,
   "id": "91b70ac8",
   "metadata": {},
   "outputs": [],
   "source": [
    "import numpy as np\n",
    "import pandas as pd\n",
    "import matplotlib.pyplot as plt\n",
    "import seaborn as sn\n",
    "import skimage.io\n",
    "import keras.backend as K\n",
    "import tensorflow as tf\n",
    "from tensorflow.keras.preprocessing.image import ImageDataGenerator\n",
    "from tensorflow.keras.applications import ResNet50\n",
    "from tensorflow.keras.layers import Dense, Flatten, Dropout,BatchNormalization ,Activation\n",
    "from keras.layers.convolutional import Conv2D\n",
    "from keras.layers.convolutional import Convolution2D, MaxPooling2D, ZeroPadding2D\n",
    "from tensorflow.keras.models import Model, Sequential\n",
    "from keras.applications.nasnet import NASNetLarge\n",
    "from tensorflow.keras.callbacks import ReduceLROnPlateau, ModelCheckpoint, EarlyStopping\n",
    "from tensorflow.keras.optimizers import Adam"
   ]
  },
  {
   "cell_type": "markdown",
   "id": "c22d6d53",
   "metadata": {},
   "source": [
    "## Training,Validation and Testing data"
   ]
  },
  {
   "cell_type": "code",
   "execution_count": 3,
   "id": "adc34922",
   "metadata": {},
   "outputs": [],
   "source": [
    "train_datagen = ImageDataGenerator(rescale = 1./255,\n",
    "                                   validation_split = 0.2)                          \n",
    "#                                    rotation_range=5\n",
    "#                                    width_shift_range=0.2,\n",
    "#                                    height_shift_range=0.2,\n",
    "#                                    #shear_range=0.2,\n",
    "#                                    zoom_range=0.2,\n",
    "#                                    horizontal_flip=True,\n",
    "#                                    vertical_flip=True,\n",
    "#                                    fill_mode='nearest')\n",
    "                        \n",
    "\n",
    "valid_datagen = ImageDataGenerator(rescale = 1./255,\n",
    "                                  validation_split = 0.2)\n",
    "\n",
    "test_datagen  = ImageDataGenerator(rescale = 1./255\n",
    "                                  )"
   ]
  },
  {
   "cell_type": "code",
   "execution_count": 9,
   "id": "0a44974f",
   "metadata": {},
   "outputs": [
    {
     "name": "stdout",
     "output_type": "stream",
     "text": [
      "Found 22968 images belonging to 7 classes.\n"
     ]
    }
   ],
   "source": [
    "train_dataset  = train_datagen.flow_from_directory(directory = 'C:\\\\Users\\\\arkap\\\\Desktop\\\\Project\\\\fer2013img\\\\train',\n",
    "                                                   target_size = (48,48),\n",
    "                                                   class_mode = 'categorical',\n",
    "                                                   subset = 'training',\n",
    "                                                   shuffle=True,\n",
    "                                                   batch_size = 64)"
   ]
  },
  {
   "cell_type": "code",
   "execution_count": 10,
   "id": "e26962b5",
   "metadata": {},
   "outputs": [
    {
     "name": "stdout",
     "output_type": "stream",
     "text": [
      "Found 1432 images belonging to 7 classes.\n"
     ]
    }
   ],
   "source": [
    "valid_dataset = valid_datagen.flow_from_directory(directory = 'C:\\\\Users\\\\arkap\\\\Desktop\\\\Project\\\\fer2013img\\\\test',\n",
    "                                                  target_size = (48,48),\n",
    "                                                  class_mode = 'categorical',\n",
    "                                                  subset = 'validation',\n",
    "                                                  shuffle=True,\n",
    "                                                  batch_size = 64)"
   ]
  },
  {
   "cell_type": "code",
   "execution_count": 11,
   "id": "41f0b8f5",
   "metadata": {},
   "outputs": [
    {
     "name": "stdout",
     "output_type": "stream",
     "text": [
      "Found 7178 images belonging to 7 classes.\n"
     ]
    }
   ],
   "source": [
    "test_dataset = test_datagen.flow_from_directory(directory = 'C:\\\\Users\\\\arkap\\\\Desktop\\\\Project\\\\fer2013img\\\\test',\n",
    "                                                target_size = (48,48),\n",
    "                                                class_mode = 'categorical',\n",
    "                                                shuffle=True,\n",
    "                                                batch_size = 64)"
   ]
  },
  {
   "cell_type": "markdown",
   "id": "f99b9bd3",
   "metadata": {},
   "source": [
    "## Model Creation and plotting accuracy"
   ]
  },
  {
   "cell_type": "code",
   "execution_count": 12,
   "id": "ae46ab6d",
   "metadata": {},
   "outputs": [],
   "source": [
    "def f1_score(y_true, y_pred): #taken from old keras source code\n",
    "    true_positives = K.sum(K.round(K.clip(y_true * y_pred, 0, 1)))\n",
    "    possible_positives = K.sum(K.round(K.clip(y_true, 0, 1)))\n",
    "    predicted_positives = K.sum(K.round(K.clip(y_pred, 0, 1)))\n",
    "    precision = true_positives / (predicted_positives + K.epsilon())\n",
    "    recall = true_positives / (possible_positives + K.epsilon())\n",
    "    f1_val = 2*(precision*recall)/(precision+recall+K.epsilon())\n",
    "    return f1_val"
   ]
  },
  {
   "cell_type": "code",
   "execution_count": 13,
   "id": "471d3d61",
   "metadata": {},
   "outputs": [],
   "source": [
    "METRICS = [\n",
    "      tf.keras.metrics.BinaryAccuracy(name='accuracy'),\n",
    "      tf.keras.metrics.Precision(name='precision'),\n",
    "      tf.keras.metrics.Recall(name='recall'),  \n",
    "      tf.keras.metrics.AUC(name='auc'),\n",
    "        f1_score,\n",
    "]"
   ]
  },
  {
   "cell_type": "code",
   "execution_count": 14,
   "id": "cf2d13a9",
   "metadata": {},
   "outputs": [
    {
     "name": "stdout",
     "output_type": "stream",
     "text": [
      "Model: \"sequential\"\n",
      "_________________________________________________________________\n",
      "Layer (type)                 Output Shape              Param #   \n",
      "=================================================================\n",
      "conv2d (Conv2D)              (None, 48, 48, 64)        1792      \n",
      "_________________________________________________________________\n",
      "batch_normalization (BatchNo (None, 48, 48, 64)        256       \n",
      "_________________________________________________________________\n",
      "activation (Activation)      (None, 48, 48, 64)        0         \n",
      "_________________________________________________________________\n",
      "max_pooling2d (MaxPooling2D) (None, 24, 24, 64)        0         \n",
      "_________________________________________________________________\n",
      "dropout (Dropout)            (None, 24, 24, 64)        0         \n",
      "_________________________________________________________________\n",
      "conv2d_1 (Conv2D)            (None, 24, 24, 128)       204928    \n",
      "_________________________________________________________________\n",
      "batch_normalization_1 (Batch (None, 24, 24, 128)       512       \n",
      "_________________________________________________________________\n",
      "activation_1 (Activation)    (None, 24, 24, 128)       0         \n",
      "_________________________________________________________________\n",
      "max_pooling2d_1 (MaxPooling2 (None, 12, 12, 128)       0         \n",
      "_________________________________________________________________\n",
      "dropout_1 (Dropout)          (None, 12, 12, 128)       0         \n",
      "_________________________________________________________________\n",
      "conv2d_2 (Conv2D)            (None, 12, 12, 512)       590336    \n",
      "_________________________________________________________________\n",
      "batch_normalization_2 (Batch (None, 12, 12, 512)       2048      \n",
      "_________________________________________________________________\n",
      "activation_2 (Activation)    (None, 12, 12, 512)       0         \n",
      "_________________________________________________________________\n",
      "max_pooling2d_2 (MaxPooling2 (None, 6, 6, 512)         0         \n",
      "_________________________________________________________________\n",
      "dropout_2 (Dropout)          (None, 6, 6, 512)         0         \n",
      "_________________________________________________________________\n",
      "conv2d_3 (Conv2D)            (None, 6, 6, 512)         2359808   \n",
      "_________________________________________________________________\n",
      "batch_normalization_3 (Batch (None, 6, 6, 512)         2048      \n",
      "_________________________________________________________________\n",
      "activation_3 (Activation)    (None, 6, 6, 512)         0         \n",
      "_________________________________________________________________\n",
      "max_pooling2d_3 (MaxPooling2 (None, 3, 3, 512)         0         \n",
      "_________________________________________________________________\n",
      "dropout_3 (Dropout)          (None, 3, 3, 512)         0         \n",
      "_________________________________________________________________\n",
      "flatten (Flatten)            (None, 4608)              0         \n",
      "_________________________________________________________________\n",
      "dense (Dense)                (None, 256)               1179904   \n",
      "_________________________________________________________________\n",
      "batch_normalization_4 (Batch (None, 256)               1024      \n",
      "_________________________________________________________________\n",
      "activation_4 (Activation)    (None, 256)               0         \n",
      "_________________________________________________________________\n",
      "dropout_4 (Dropout)          (None, 256)               0         \n",
      "_________________________________________________________________\n",
      "dense_1 (Dense)              (None, 512)               131584    \n",
      "_________________________________________________________________\n",
      "batch_normalization_5 (Batch (None, 512)               2048      \n",
      "_________________________________________________________________\n",
      "activation_5 (Activation)    (None, 512)               0         \n",
      "_________________________________________________________________\n",
      "dropout_5 (Dropout)          (None, 512)               0         \n",
      "_________________________________________________________________\n",
      "dense_2 (Dense)              (None, 7)                 3591      \n",
      "=================================================================\n",
      "Total params: 4,479,879\n",
      "Trainable params: 4,475,911\n",
      "Non-trainable params: 3,968\n",
      "_________________________________________________________________\n"
     ]
    }
   ],
   "source": [
    "no_of_classes = 7\n",
    "\n",
    "model = Sequential()\n",
    "\n",
    "#1st CNN layer\n",
    "model.add(Conv2D(64,(3,3),padding = 'same',input_shape = (48,48,3)))\n",
    "model.add(BatchNormalization())\n",
    "model.add(Activation('relu'))\n",
    "model.add(MaxPooling2D(pool_size = (2,2)))\n",
    "model.add(Dropout(0.25))\n",
    "\n",
    "#2nd CNN layer\n",
    "model.add(Conv2D(128,(5,5),padding = 'same'))\n",
    "model.add(BatchNormalization())\n",
    "model.add(Activation('relu'))\n",
    "model.add(MaxPooling2D(pool_size = (2,2)))\n",
    "model.add(Dropout (0.25))\n",
    "\n",
    "#3rd CNN layer\n",
    "model.add(Conv2D(512,(3,3),padding = 'same'))\n",
    "model.add(BatchNormalization())\n",
    "model.add(Activation('relu'))\n",
    "model.add(MaxPooling2D(pool_size = (2,2)))\n",
    "model.add(Dropout (0.25))\n",
    "\n",
    "#4th CNN layer\n",
    "model.add(Conv2D(512,(3,3), padding='same'))\n",
    "model.add(BatchNormalization())\n",
    "model.add(Activation('relu'))\n",
    "model.add(MaxPooling2D(pool_size=(2, 2)))\n",
    "model.add(Dropout(0.25))\n",
    "\n",
    "model.add(Flatten())\n",
    "\n",
    "#Fully connected 1st layer\n",
    "model.add(Dense(256))\n",
    "model.add(BatchNormalization())\n",
    "model.add(Activation('relu'))\n",
    "model.add(Dropout(0.25))\n",
    "\n",
    "\n",
    "# Fully connected layer 2nd layer\n",
    "model.add(Dense(512))\n",
    "model.add(BatchNormalization())\n",
    "model.add(Activation('relu'))\n",
    "model.add(Dropout(0.25))\n",
    "\n",
    "model.add(Dense(no_of_classes, activation='softmax'))\n",
    "model.summary()"
   ]
  },
  {
   "cell_type": "code",
   "execution_count": 15,
   "id": "f5a01dce",
   "metadata": {},
   "outputs": [
    {
     "name": "stdout",
     "output_type": "stream",
     "text": [
      "Model: \"sequential\"\n",
      "_________________________________________________________________\n",
      "Layer (type)                 Output Shape              Param #   \n",
      "=================================================================\n",
      "conv2d (Conv2D)              (None, 48, 48, 64)        1792      \n",
      "_________________________________________________________________\n",
      "batch_normalization (BatchNo (None, 48, 48, 64)        256       \n",
      "_________________________________________________________________\n",
      "activation (Activation)      (None, 48, 48, 64)        0         \n",
      "_________________________________________________________________\n",
      "max_pooling2d (MaxPooling2D) (None, 24, 24, 64)        0         \n",
      "_________________________________________________________________\n",
      "dropout (Dropout)            (None, 24, 24, 64)        0         \n",
      "_________________________________________________________________\n",
      "conv2d_1 (Conv2D)            (None, 24, 24, 128)       204928    \n",
      "_________________________________________________________________\n",
      "batch_normalization_1 (Batch (None, 24, 24, 128)       512       \n",
      "_________________________________________________________________\n",
      "activation_1 (Activation)    (None, 24, 24, 128)       0         \n",
      "_________________________________________________________________\n",
      "max_pooling2d_1 (MaxPooling2 (None, 12, 12, 128)       0         \n",
      "_________________________________________________________________\n",
      "dropout_1 (Dropout)          (None, 12, 12, 128)       0         \n",
      "_________________________________________________________________\n",
      "conv2d_2 (Conv2D)            (None, 12, 12, 512)       590336    \n",
      "_________________________________________________________________\n",
      "batch_normalization_2 (Batch (None, 12, 12, 512)       2048      \n",
      "_________________________________________________________________\n",
      "activation_2 (Activation)    (None, 12, 12, 512)       0         \n",
      "_________________________________________________________________\n",
      "max_pooling2d_2 (MaxPooling2 (None, 6, 6, 512)         0         \n",
      "_________________________________________________________________\n",
      "dropout_2 (Dropout)          (None, 6, 6, 512)         0         \n",
      "_________________________________________________________________\n",
      "conv2d_3 (Conv2D)            (None, 6, 6, 512)         2359808   \n",
      "_________________________________________________________________\n",
      "batch_normalization_3 (Batch (None, 6, 6, 512)         2048      \n",
      "_________________________________________________________________\n",
      "activation_3 (Activation)    (None, 6, 6, 512)         0         \n",
      "_________________________________________________________________\n",
      "max_pooling2d_3 (MaxPooling2 (None, 3, 3, 512)         0         \n",
      "_________________________________________________________________\n",
      "dropout_3 (Dropout)          (None, 3, 3, 512)         0         \n",
      "_________________________________________________________________\n",
      "flatten (Flatten)            (None, 4608)              0         \n",
      "_________________________________________________________________\n",
      "dense (Dense)                (None, 256)               1179904   \n",
      "_________________________________________________________________\n",
      "batch_normalization_4 (Batch (None, 256)               1024      \n",
      "_________________________________________________________________\n",
      "activation_4 (Activation)    (None, 256)               0         \n",
      "_________________________________________________________________\n",
      "dropout_4 (Dropout)          (None, 256)               0         \n",
      "_________________________________________________________________\n",
      "dense_1 (Dense)              (None, 512)               131584    \n",
      "_________________________________________________________________\n",
      "batch_normalization_5 (Batch (None, 512)               2048      \n",
      "_________________________________________________________________\n",
      "activation_5 (Activation)    (None, 512)               0         \n",
      "_________________________________________________________________\n",
      "dropout_5 (Dropout)          (None, 512)               0         \n",
      "_________________________________________________________________\n",
      "dense_2 (Dense)              (None, 7)                 3591      \n",
      "=================================================================\n",
      "Total params: 4,479,879\n",
      "Trainable params: 4,475,911\n",
      "Non-trainable params: 3,968\n",
      "_________________________________________________________________\n"
     ]
    }
   ],
   "source": [
    "# Model Summary\n",
    "\n",
    "model.summary()"
   ]
  },
  {
   "cell_type": "code",
   "execution_count": 16,
   "id": "0a8a9b9c",
   "metadata": {},
   "outputs": [
    {
     "name": "stdout",
     "output_type": "stream",
     "text": [
      "('You must install pydot (`pip install pydot`) and install graphviz (see instructions at https://graphviz.gitlab.io/download/) ', 'for plot_model/model_to_dot to work.')\n"
     ]
    }
   ],
   "source": [
    "from tensorflow.keras.utils import plot_model\n",
    "from IPython.display import Image\n",
    "plot_model(model, to_file='C:/Users/arkap/Desktop/Project/convnet.png', show_shapes=True,show_layer_names=True,dpi=350)\n",
    "#Image(filename='convnet.png') "
   ]
  },
  {
   "cell_type": "code",
   "execution_count": 17,
   "id": "9e0a95ea",
   "metadata": {},
   "outputs": [],
   "source": [
    "lrd = ReduceLROnPlateau(monitor = 'val_loss',patience = 20,verbose = 1,factor = 0.50, min_lr = 1e-10)\n",
    "\n",
    "mcp = ModelCheckpoint('model.h5')\n",
    "\n",
    "es = EarlyStopping(verbose=1, patience=20)"
   ]
  },
  {
   "cell_type": "code",
   "execution_count": 18,
   "id": "47911283",
   "metadata": {},
   "outputs": [
    {
     "name": "stdout",
     "output_type": "stream",
     "text": [
      "Epoch 1/15\n",
      "359/359 [==============================] - 1606s 4s/step - loss: 1.7933 - accuracy: 0.8545 - precision: 0.4640 - recall: 0.1175 - auc: 0.7097 - f1_score: 0.1844 - val_loss: 1.8012 - val_accuracy: 0.8664 - val_precision: 0.6450 - val_recall: 0.1438 - val_auc: 0.6880 - val_f1_score: 0.2344\n",
      "Epoch 2/15\n",
      "359/359 [==============================] - 1627s 5s/step - loss: 1.4367 - accuracy: 0.8747 - precision: 0.6712 - recall: 0.2415 - auc: 0.8178 - f1_score: 0.3536 - val_loss: 1.3958 - val_accuracy: 0.8784 - val_precision: 0.7279 - val_recall: 0.2374 - val_auc: 0.8250 - val_f1_score: 0.3562\n",
      "Epoch 3/15\n",
      "359/359 [==============================] - 1151s 3s/step - loss: 1.2852 - accuracy: 0.8828 - precision: 0.7087 - recall: 0.3050 - auc: 0.8575 - f1_score: 0.4251 - val_loss: 1.2600 - val_accuracy: 0.8862 - val_precision: 0.7814 - val_recall: 0.2824 - val_auc: 0.8623 - val_f1_score: 0.4111\n",
      "Epoch 4/15\n",
      "359/359 [==============================] - 937s 3s/step - loss: 1.2071 - accuracy: 0.8882 - precision: 0.7269 - recall: 0.3479 - auc: 0.8756 - f1_score: 0.4694 - val_loss: 1.2760 - val_accuracy: 0.8828 - val_precision: 0.6848 - val_recall: 0.3323 - val_auc: 0.8603 - val_f1_score: 0.4440\n",
      "Epoch 5/15\n",
      "359/359 [==============================] - 885s 2s/step - loss: 1.1401 - accuracy: 0.8924 - precision: 0.7328 - recall: 0.3879 - auc: 0.8896 - f1_score: 0.5060 - val_loss: 1.1806 - val_accuracy: 0.8892 - val_precision: 0.7340 - val_recall: 0.3518 - val_auc: 0.8809 - val_f1_score: 0.4714\n",
      "Epoch 6/15\n",
      "359/359 [==============================] - 813s 2s/step - loss: 1.0819 - accuracy: 0.8971 - precision: 0.7437 - recall: 0.4273 - auc: 0.9009 - f1_score: 0.5418 - val_loss: 1.4239 - val_accuracy: 0.8604 - val_precision: 0.5174 - val_recall: 0.3438 - val_auc: 0.8373 - val_f1_score: 0.4109\n",
      "Epoch 7/15\n",
      "359/359 [==============================] - 814s 2s/step - loss: 1.0393 - accuracy: 0.8994 - precision: 0.7430 - recall: 0.4524 - auc: 0.9088 - f1_score: 0.5612 - val_loss: 1.2151 - val_accuracy: 0.8868 - val_precision: 0.6848 - val_recall: 0.3846 - val_auc: 0.8766 - val_f1_score: 0.4902\n",
      "Epoch 8/15\n",
      "359/359 [==============================] - 808s 2s/step - loss: 0.9942 - accuracy: 0.9044 - precision: 0.7573 - recall: 0.4867 - auc: 0.9169 - f1_score: 0.5918 - val_loss: 1.1411 - val_accuracy: 0.8928 - val_precision: 0.7109 - val_recall: 0.4203 - val_auc: 0.8902 - val_f1_score: 0.5282\n",
      "Epoch 9/15\n",
      "359/359 [==============================] - 825s 2s/step - loss: 0.9480 - accuracy: 0.9072 - precision: 0.7570 - recall: 0.5158 - auc: 0.9244 - f1_score: 0.6126 - val_loss: 1.2952 - val_accuracy: 0.8809 - val_precision: 0.6570 - val_recall: 0.3487 - val_auc: 0.8576 - val_f1_score: 0.4537\n",
      "Epoch 10/15\n",
      "359/359 [==============================] - 822s 2s/step - loss: 0.8996 - accuracy: 0.9109 - precision: 0.7638 - recall: 0.5449 - auc: 0.9320 - f1_score: 0.6352 - val_loss: 1.1835 - val_accuracy: 0.8904 - val_precision: 0.7062 - val_recall: 0.3991 - val_auc: 0.8826 - val_f1_score: 0.5076\n",
      "Epoch 11/15\n",
      "359/359 [==============================] - 911s 3s/step - loss: 0.8506 - accuracy: 0.9157 - precision: 0.7763 - recall: 0.5756 - auc: 0.9392 - f1_score: 0.6603 - val_loss: 1.4254 - val_accuracy: 0.8787 - val_precision: 0.6243 - val_recall: 0.3794 - val_auc: 0.8441 - val_f1_score: 0.4685\n",
      "Epoch 12/15\n",
      "359/359 [==============================] - 894s 2s/step - loss: 0.8002 - accuracy: 0.9202 - precision: 0.7869 - recall: 0.6055 - auc: 0.9461 - f1_score: 0.6836 - val_loss: 1.1160 - val_accuracy: 0.8974 - val_precision: 0.6974 - val_recall: 0.4979 - val_auc: 0.9002 - val_f1_score: 0.5829\n",
      "Epoch 13/15\n",
      "359/359 [==============================] - 860s 2s/step - loss: 0.7556 - accuracy: 0.9249 - precision: 0.7976 - recall: 0.6357 - auc: 0.9518 - f1_score: 0.7070 - val_loss: 1.2387 - val_accuracy: 0.8901 - val_precision: 0.6629 - val_recall: 0.4689 - val_auc: 0.8807 - val_f1_score: 0.5493\n",
      "Epoch 14/15\n",
      "359/359 [==============================] - 836s 2s/step - loss: 0.6995 - accuracy: 0.9298 - precision: 0.8073 - recall: 0.6678 - auc: 0.9585 - f1_score: 0.7304 - val_loss: 1.1814 - val_accuracy: 0.8953 - val_precision: 0.6762 - val_recall: 0.5131 - val_auc: 0.8950 - val_f1_score: 0.5819\n",
      "Epoch 15/15\n",
      "359/359 [==============================] - 816s 2s/step - loss: 0.6524 - accuracy: 0.9343 - precision: 0.8187 - recall: 0.6939 - auc: 0.9637 - f1_score: 0.7508 - val_loss: 1.2551 - val_accuracy: 0.8905 - val_precision: 0.6427 - val_recall: 0.5254 - val_auc: 0.8895 - val_f1_score: 0.5781\n"
     ]
    }
   ],
   "source": [
    "model.compile(optimizer='Adam', loss='categorical_crossentropy',metrics=METRICS)\n",
    "\n",
    "history=model.fit(train_dataset,validation_data=test_dataset,epochs = 15,verbose = 1,callbacks=[lrd,mcp,es])"
   ]
  },
  {
   "cell_type": "markdown",
   "id": "5eae6366",
   "metadata": {},
   "source": [
    "## Plotting results and accuracy"
   ]
  },
  {
   "cell_type": "code",
   "execution_count": 19,
   "id": "766f8698",
   "metadata": {},
   "outputs": [
    {
     "data": {
      "image/png": "[encoded data removed]",
      "text/plain": [
       "<Figure size 1440x360 with 5 Axes>"
      ]
     },
     "metadata": {
      "needs_background": "light"
     },
     "output_type": "display_data"
    }
   ],
   "source": [
    "#%% PLOTTING RESULTS (Train vs Validation FOLDER 1)\n",
    "\n",
    "def Train_Val_Plot(acc,val_acc,loss,val_loss,auc,val_auc,precision,val_precision,f1,val_f1):\n",
    "    \n",
    "    fig, (ax1, ax2,ax3,ax4,ax5) = plt.subplots(1,5, figsize= (20,5))\n",
    "    fig.suptitle(\" MODEL'S METRICS VISUALIZATION \")\n",
    "\n",
    "    ax1.plot(range(1, len(acc) + 1), acc)\n",
    "    ax1.plot(range(1, len(val_acc) + 1), val_acc)\n",
    "    ax1.set_title('History of Accuracy')\n",
    "    ax1.set_xlabel('Epochs')\n",
    "    ax1.set_ylabel('Accuracy')\n",
    "    ax1.legend(['training', 'validation'])\n",
    "\n",
    "\n",
    "    ax2.plot(range(1, len(loss) + 1), loss)\n",
    "    ax2.plot(range(1, len(val_loss) + 1), val_loss)\n",
    "    ax2.set_title('History of Loss')\n",
    "    ax2.set_xlabel('Epochs')\n",
    "    ax2.set_ylabel('Loss')\n",
    "    ax2.legend(['training', 'validation'])\n",
    "    \n",
    "    ax3.plot(range(1, len(auc) + 1), auc)\n",
    "    ax3.plot(range(1, len(val_auc) + 1), val_auc)\n",
    "    ax3.set_title('History of AUC')\n",
    "    ax3.set_xlabel('Epochs')\n",
    "    ax3.set_ylabel('AUC')\n",
    "    ax3.legend(['training', 'validation'])\n",
    "    \n",
    "    ax4.plot(range(1, len(precision) + 1), precision)\n",
    "    ax4.plot(range(1, len(val_precision) + 1), val_precision)\n",
    "    ax4.set_title('History of Precision')\n",
    "    ax4.set_xlabel('Epochs')\n",
    "    ax4.set_ylabel('Precision')\n",
    "    ax4.legend(['training', 'validation'])\n",
    "    \n",
    "    ax5.plot(range(1, len(f1) + 1), f1)\n",
    "    ax5.plot(range(1, len(val_f1) + 1), val_f1)\n",
    "    ax5.set_title('History of F1-score')\n",
    "    ax5.set_xlabel('Epochs')\n",
    "    ax5.set_ylabel('F1 score')\n",
    "    ax5.legend(['training', 'validation'])\n",
    "\n",
    "\n",
    "    plt.show()\n",
    "    \n",
    "\n",
    "Train_Val_Plot(history.history['accuracy'],history.history['val_accuracy'],\n",
    "               history.history['loss'],history.history['val_loss'],\n",
    "               history.history['auc'],history.history['val_auc'],\n",
    "               history.history['precision'],history.history['val_precision'],\n",
    "               history.history['f1_score'],history.history['val_f1_score']\n",
    "              )"
   ]
  },
  {
   "cell_type": "code",
   "execution_count": 20,
   "id": "8f14618a",
   "metadata": {},
   "outputs": [
    {
     "name": "stdout",
     "output_type": "stream",
     "text": [
      "Saved to disc\n",
      "Successful\n"
     ]
    }
   ],
   "source": [
    "model.save_weights('model.h5')  # creates a HDF5 file 'my_model.h5'\n",
    "print('Saved to disc')\n",
    "\n",
    "model_json = model.to_json()\n",
    "with open(\"model.json\", \"w\") as json_file:\n",
    "    json_file.write(model_json)\n",
    "print(\"Successful\") "
   ]
  },
  {
   "cell_type": "code",
   "execution_count": 21,
   "id": "9191fa5b",
   "metadata": {},
   "outputs": [
    {
     "name": "stderr",
     "output_type": "stream",
     "text": [
      "C:\\Users\\arkap\\AppData\\Local\\Programs\\Python\\Python37\\lib\\site-packages\\keras\\engine\\training.py:2035: UserWarning: `Model.predict_generator` is deprecated and will be removed in a future version. Please use `Model.predict`, which supports generators.\n",
      "  warnings.warn('`Model.predict_generator` is deprecated and '\n"
     ]
    },
    {
     "name": "stdout",
     "output_type": "stream",
     "text": [
      "WARNING:tensorflow:Your input ran out of data; interrupting training. Make sure that your dataset or generator can generate at least `steps_per_epoch * epochs` batches (in this case, 1157 batches). You may need to use the repeat() function when building your dataset.\n",
      "Confusion Matrix\n",
      "[[136  13  38 233 229 233  76]\n",
      " [ 15   1   5  32  22  26  10]\n",
      " [160  11  50 221 265 232  85]\n",
      " [281  17  74 389 432 431 150]\n",
      " [170   8  51 296 315 269 124]\n",
      " [179  17  55 283 289 307 117]\n",
      " [112   9  38 189 199 195  89]]\n",
      "Classification Report\n",
      "              precision    recall  f1-score   support\n",
      "\n",
      "       Angry       0.13      0.14      0.14       958\n",
      "     Disgust       0.01      0.01      0.01       111\n",
      "        Fear       0.16      0.05      0.07      1024\n",
      "       Happy       0.24      0.22      0.23      1774\n",
      "     Neutral       0.18      0.26      0.21      1233\n",
      "         Sad       0.18      0.25      0.21      1247\n",
      "    Surprise       0.14      0.11      0.12       831\n",
      "\n",
      "    accuracy                           0.18      7178\n",
      "   macro avg       0.15      0.15      0.14      7178\n",
      "weighted avg       0.18      0.18      0.17      7178\n",
      "\n"
     ]
    }
   ],
   "source": [
    "import numpy as np\n",
    "from keras import backend as K\n",
    "from keras.models import Sequential\n",
    "from keras.layers.core import Dense, Dropout, Activation, Flatten\n",
    "from keras.layers.convolutional import Convolution2D, MaxPooling2D\n",
    "from keras.preprocessing.image import ImageDataGenerator\n",
    "from sklearn.metrics import classification_report, confusion_matrix\n",
    "from keras.models import load_model\n",
    "from keras.models import model_from_json\n",
    "\n",
    "model = model_from_json(open(\"model.json\", \"r\").read())\n",
    "model.load_weights('model.h5')\n",
    "\n",
    "Y_pred = model.predict_generator(test_dataset, 1157)\n",
    "y_pred = np.argmax(Y_pred, axis=1)\n",
    "print('Confusion Matrix')\n",
    "print(confusion_matrix(test_dataset.classes, y_pred))\n",
    "print('Classification Report')\n",
    "#target_names = ['Negative','Neutral','Positive']\n",
    "target_names = ['Angry','Disgust','Fear','Happy','Neutral','Sad','Surprise']\n",
    "print(classification_report(test_dataset.classes, y_pred, target_names=target_names))"
   ]
  },
  {
   "cell_type": "code",
   "execution_count": null,
   "id": "d1a70b02",
   "metadata": {},
   "outputs": [],
   "source": []
  }
 ],
 "metadata": {
  "kernelspec": {
   "display_name": "Python 3 (ipykernel)",
   "language": "python",
   "name": "python3"
  },
  "language_info": {
   "codemirror_mode": {
    "name": "ipython",
    "version": 3
   },
   "file_extension": ".py",
   "mimetype": "text/x-python",
   "name": "python",
   "nbconvert_exporter": "python",
   "pygments_lexer": "ipython3",
   "version": "3.9.7"
  }
 },
 "nbformat": 4,
 "nbformat_minor": 5
}
