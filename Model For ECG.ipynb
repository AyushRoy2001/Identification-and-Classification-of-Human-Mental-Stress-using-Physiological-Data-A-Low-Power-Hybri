{
 "cells": [
  {
   "cell_type": "markdown",
   "id": "20c88043",
   "metadata": {},
   "source": [
    "## Importing Data"
   ]
  },
  {
   "cell_type": "code",
   "execution_count": 1,
   "id": "73b385f9",
   "metadata": {},
   "outputs": [
    {
     "name": "stdout",
     "output_type": "stream",
     "text": [
      "   Amplitude        RR     Speed  Age Sex Medicine Arrhythmia\n",
      "0   0.915824  1.841667  0.497280   24   F      Yes         (B\n",
      "1   0.794527  1.541667  0.515369   24   F      Yes         (B\n",
      "2   0.764521  1.377778  0.554894   24   F      Yes         (B\n",
      "3   1.039003  1.591667  0.652777   24   F      Yes         (B\n",
      "4   2.003128  1.563889  1.280863   24   F      Yes         (B\n",
      "##############################################\n",
      "   Amplitude        RR     Speed  Age Sex Medicine Arrhythmia\n",
      "0   1.169131  1.975000  0.591965   51   F      Yes         (B\n",
      "1   1.524159  1.844444  0.826351   51   F      Yes         (B\n",
      "2   1.378575  1.869444  0.737425   51   F      Yes         (B\n",
      "3   1.191273  1.952778  0.610040   51   F      Yes         (B\n",
      "4   1.238591  1.850000  0.669508   51   F      Yes         (B\n"
     ]
    },
    {
     "data": {
      "text/plain": [
       "array(['(B', '(N', '(VT', '(T'], dtype=object)"
      ]
     },
     "execution_count": 1,
     "metadata": {},
     "output_type": "execute_result"
    }
   ],
   "source": [
    "import pandas as pd\n",
    "import numpy as np\n",
    "\n",
    "train = pd.read_csv('train.csv')\n",
    "test = pd.read_csv('test.csv')\n",
    "\n",
    "print(train.head(5))\n",
    "print(\"##############################################\")\n",
    "print(test.head(5))\n",
    "\n",
    "train.Arrhythmia.unique()"
   ]
  },
  {
   "cell_type": "code",
   "execution_count": 2,
   "id": "4423c25b",
   "metadata": {},
   "outputs": [],
   "source": [
    "train = pd.get_dummies(train, columns=['Sex'],drop_first=True)\n",
    "train = pd.get_dummies(train, columns=['Medicine'],drop_first=True)\n",
    "train['Age'] = train['Age']/100\n",
    "\n",
    "test = pd.get_dummies(test, columns=['Sex'],drop_first=True)\n",
    "test = pd.get_dummies(test, columns=['Medicine'],drop_first=True)\n",
    "test['Age'] = test['Age']/100"
   ]
  },
  {
   "cell_type": "code",
   "execution_count": 3,
   "id": "8e9059ec",
   "metadata": {},
   "outputs": [
    {
     "name": "stdout",
     "output_type": "stream",
     "text": [
      "   Amplitude        RR     Speed   Age Arrhythmia  Sex_M  Medicine_Yes\n",
      "0   0.915824  1.841667  0.497280  0.24         (B      0             1\n",
      "1   0.794527  1.541667  0.515369  0.24         (B      0             1\n",
      "2   0.764521  1.377778  0.554894  0.24         (B      0             1\n",
      "3   1.039003  1.591667  0.652777  0.24         (B      0             1\n",
      "4   2.003128  1.563889  1.280863  0.24         (B      0             1\n",
      "##############################################\n",
      "   Amplitude        RR     Speed   Age Arrhythmia  Sex_M  Medicine_Yes\n",
      "0   1.169131  1.975000  0.591965  0.51         (B      0             1\n",
      "1   1.524159  1.844444  0.826351  0.51         (B      0             1\n",
      "2   1.378575  1.869444  0.737425  0.51         (B      0             1\n",
      "3   1.191273  1.952778  0.610040  0.51         (B      0             1\n",
      "4   1.238591  1.850000  0.669508  0.51         (B      0             1\n"
     ]
    }
   ],
   "source": [
    "print(train.head(5))\n",
    "print(\"##############################################\")\n",
    "print(test.head(5))"
   ]
  },
  {
   "cell_type": "code",
   "execution_count": 4,
   "id": "c485b765",
   "metadata": {},
   "outputs": [
    {
     "data": {
      "text/html": [
       "<div><div id=93f47f3c-8db2-466d-ad73-344976e0edab style=\"display:none; background-color:#9D6CFF; color:white; width:200px; height:30px; padding-left:5px; border-radius:4px; flex-direction:row; justify-content:space-around; align-items:center;\" onmouseover=\"this.style.backgroundColor='#BA9BF8'\" onmouseout=\"this.style.backgroundColor='#9D6CFF'\" onclick=\"window.commands?.execute('create-mitosheet-from-dataframe-output');\">See Full Dataframe in Mito</div> <script> if (window.commands.hasCommand('create-mitosheet-from-dataframe-output')) document.getElementById('93f47f3c-8db2-466d-ad73-344976e0edab').style.display = 'flex' </script> <table border=\"1\" class=\"dataframe\">\n",
       "  <thead>\n",
       "    <tr style=\"text-align: right;\">\n",
       "      <th></th>\n",
       "      <th>Amplitude</th>\n",
       "      <th>RR</th>\n",
       "      <th>Speed</th>\n",
       "      <th>Age</th>\n",
       "      <th>Arrhythmia</th>\n",
       "      <th>Sex_M</th>\n",
       "      <th>Medicine_Yes</th>\n",
       "    </tr>\n",
       "  </thead>\n",
       "  <tbody>\n",
       "    <tr>\n",
       "      <th>0</th>\n",
       "      <td>0.915824</td>\n",
       "      <td>1.841667</td>\n",
       "      <td>0.497280</td>\n",
       "      <td>0.24</td>\n",
       "      <td>0</td>\n",
       "      <td>0</td>\n",
       "      <td>1</td>\n",
       "    </tr>\n",
       "    <tr>\n",
       "      <th>1</th>\n",
       "      <td>0.794527</td>\n",
       "      <td>1.541667</td>\n",
       "      <td>0.515369</td>\n",
       "      <td>0.24</td>\n",
       "      <td>0</td>\n",
       "      <td>0</td>\n",
       "      <td>1</td>\n",
       "    </tr>\n",
       "    <tr>\n",
       "      <th>2</th>\n",
       "      <td>0.764521</td>\n",
       "      <td>1.377778</td>\n",
       "      <td>0.554894</td>\n",
       "      <td>0.24</td>\n",
       "      <td>0</td>\n",
       "      <td>0</td>\n",
       "      <td>1</td>\n",
       "    </tr>\n",
       "    <tr>\n",
       "      <th>3</th>\n",
       "      <td>1.039003</td>\n",
       "      <td>1.591667</td>\n",
       "      <td>0.652777</td>\n",
       "      <td>0.24</td>\n",
       "      <td>0</td>\n",
       "      <td>0</td>\n",
       "      <td>1</td>\n",
       "    </tr>\n",
       "    <tr>\n",
       "      <th>4</th>\n",
       "      <td>2.003128</td>\n",
       "      <td>1.563889</td>\n",
       "      <td>1.280863</td>\n",
       "      <td>0.24</td>\n",
       "      <td>0</td>\n",
       "      <td>0</td>\n",
       "      <td>1</td>\n",
       "    </tr>\n",
       "  </tbody>\n",
       "</table></div>"
      ],
      "text/plain": [
       "   Amplitude        RR     Speed   Age  Arrhythmia  Sex_M  Medicine_Yes\n",
       "0   0.915824  1.841667  0.497280  0.24           0      0             1\n",
       "1   0.794527  1.541667  0.515369  0.24           0      0             1\n",
       "2   0.764521  1.377778  0.554894  0.24           0      0             1\n",
       "3   1.039003  1.591667  0.652777  0.24           0      0             1\n",
       "4   2.003128  1.563889  1.280863  0.24           0      0             1"
      ]
     },
     "execution_count": 4,
     "metadata": {},
     "output_type": "execute_result"
    }
   ],
   "source": [
    "labels = list(set(train.Arrhythmia))\n",
    "train['Arrhythmia'] = pd.DataFrame(train.Arrhythmia.map({x:labels.index(x) for x in labels}).rename('Disease'))\n",
    "train.head()"
   ]
  },
  {
   "cell_type": "code",
   "execution_count": 5,
   "id": "06dea38f",
   "metadata": {},
   "outputs": [
    {
     "data": {
      "text/html": [
       "<div><div id=3b90924a-431c-4fc7-abec-04397fa18095 style=\"display:none; background-color:#9D6CFF; color:white; width:200px; height:30px; padding-left:5px; border-radius:4px; flex-direction:row; justify-content:space-around; align-items:center;\" onmouseover=\"this.style.backgroundColor='#BA9BF8'\" onmouseout=\"this.style.backgroundColor='#9D6CFF'\" onclick=\"window.commands?.execute('create-mitosheet-from-dataframe-output');\">See Full Dataframe in Mito</div> <script> if (window.commands.hasCommand('create-mitosheet-from-dataframe-output')) document.getElementById('3b90924a-431c-4fc7-abec-04397fa18095').style.display = 'flex' </script> <table border=\"1\" class=\"dataframe\">\n",
       "  <thead>\n",
       "    <tr style=\"text-align: right;\">\n",
       "      <th></th>\n",
       "      <th>Amplitude</th>\n",
       "      <th>RR</th>\n",
       "      <th>Speed</th>\n",
       "      <th>Age</th>\n",
       "      <th>Arrhythmia</th>\n",
       "      <th>Sex_M</th>\n",
       "      <th>Medicine_Yes</th>\n",
       "    </tr>\n",
       "  </thead>\n",
       "  <tbody>\n",
       "    <tr>\n",
       "      <th>0</th>\n",
       "      <td>0.915824</td>\n",
       "      <td>1.841667</td>\n",
       "      <td>0.497280</td>\n",
       "      <td>0.24</td>\n",
       "      <td>0</td>\n",
       "      <td>0</td>\n",
       "      <td>1</td>\n",
       "    </tr>\n",
       "    <tr>\n",
       "      <th>1</th>\n",
       "      <td>0.794527</td>\n",
       "      <td>1.541667</td>\n",
       "      <td>0.515369</td>\n",
       "      <td>0.24</td>\n",
       "      <td>0</td>\n",
       "      <td>0</td>\n",
       "      <td>1</td>\n",
       "    </tr>\n",
       "    <tr>\n",
       "      <th>2</th>\n",
       "      <td>0.764521</td>\n",
       "      <td>1.377778</td>\n",
       "      <td>0.554894</td>\n",
       "      <td>0.24</td>\n",
       "      <td>0</td>\n",
       "      <td>0</td>\n",
       "      <td>1</td>\n",
       "    </tr>\n",
       "    <tr>\n",
       "      <th>3</th>\n",
       "      <td>1.039003</td>\n",
       "      <td>1.591667</td>\n",
       "      <td>0.652777</td>\n",
       "      <td>0.24</td>\n",
       "      <td>0</td>\n",
       "      <td>0</td>\n",
       "      <td>1</td>\n",
       "    </tr>\n",
       "    <tr>\n",
       "      <th>4</th>\n",
       "      <td>2.003128</td>\n",
       "      <td>1.563889</td>\n",
       "      <td>1.280863</td>\n",
       "      <td>0.24</td>\n",
       "      <td>0</td>\n",
       "      <td>0</td>\n",
       "      <td>1</td>\n",
       "    </tr>\n",
       "  </tbody>\n",
       "</table></div>"
      ],
      "text/plain": [
       "   Amplitude        RR     Speed   Age  Arrhythmia  Sex_M  Medicine_Yes\n",
       "0   0.915824  1.841667  0.497280  0.24           0      0             1\n",
       "1   0.794527  1.541667  0.515369  0.24           0      0             1\n",
       "2   0.764521  1.377778  0.554894  0.24           0      0             1\n",
       "3   1.039003  1.591667  0.652777  0.24           0      0             1\n",
       "4   2.003128  1.563889  1.280863  0.24           0      0             1"
      ]
     },
     "execution_count": 5,
     "metadata": {},
     "output_type": "execute_result"
    }
   ],
   "source": [
    "train.head()"
   ]
  },
  {
   "cell_type": "code",
   "execution_count": 6,
   "id": "6dabc580",
   "metadata": {},
   "outputs": [
    {
     "data": {
      "text/html": [
       "<div><div id=b250bc23-5bde-4081-a2c5-4fde1a5288d9 style=\"display:none; background-color:#9D6CFF; color:white; width:200px; height:30px; padding-left:5px; border-radius:4px; flex-direction:row; justify-content:space-around; align-items:center;\" onmouseover=\"this.style.backgroundColor='#BA9BF8'\" onmouseout=\"this.style.backgroundColor='#9D6CFF'\" onclick=\"window.commands?.execute('create-mitosheet-from-dataframe-output');\">See Full Dataframe in Mito</div> <script> if (window.commands.hasCommand('create-mitosheet-from-dataframe-output')) document.getElementById('b250bc23-5bde-4081-a2c5-4fde1a5288d9').style.display = 'flex' </script> <table border=\"1\" class=\"dataframe\">\n",
       "  <thead>\n",
       "    <tr style=\"text-align: right;\">\n",
       "      <th></th>\n",
       "      <th>Amplitude</th>\n",
       "      <th>RR</th>\n",
       "      <th>Speed</th>\n",
       "      <th>Age</th>\n",
       "      <th>Arrhythmia</th>\n",
       "      <th>Sex_M</th>\n",
       "      <th>Medicine_Yes</th>\n",
       "    </tr>\n",
       "  </thead>\n",
       "  <tbody>\n",
       "    <tr>\n",
       "      <th>0</th>\n",
       "      <td>1.169131</td>\n",
       "      <td>1.975000</td>\n",
       "      <td>0.591965</td>\n",
       "      <td>0.51</td>\n",
       "      <td>0</td>\n",
       "      <td>0</td>\n",
       "      <td>1</td>\n",
       "    </tr>\n",
       "    <tr>\n",
       "      <th>1</th>\n",
       "      <td>1.524159</td>\n",
       "      <td>1.844444</td>\n",
       "      <td>0.826351</td>\n",
       "      <td>0.51</td>\n",
       "      <td>0</td>\n",
       "      <td>0</td>\n",
       "      <td>1</td>\n",
       "    </tr>\n",
       "    <tr>\n",
       "      <th>2</th>\n",
       "      <td>1.378575</td>\n",
       "      <td>1.869444</td>\n",
       "      <td>0.737425</td>\n",
       "      <td>0.51</td>\n",
       "      <td>0</td>\n",
       "      <td>0</td>\n",
       "      <td>1</td>\n",
       "    </tr>\n",
       "    <tr>\n",
       "      <th>3</th>\n",
       "      <td>1.191273</td>\n",
       "      <td>1.952778</td>\n",
       "      <td>0.610040</td>\n",
       "      <td>0.51</td>\n",
       "      <td>0</td>\n",
       "      <td>0</td>\n",
       "      <td>1</td>\n",
       "    </tr>\n",
       "    <tr>\n",
       "      <th>4</th>\n",
       "      <td>1.238591</td>\n",
       "      <td>1.850000</td>\n",
       "      <td>0.669508</td>\n",
       "      <td>0.51</td>\n",
       "      <td>0</td>\n",
       "      <td>0</td>\n",
       "      <td>1</td>\n",
       "    </tr>\n",
       "  </tbody>\n",
       "</table></div>"
      ],
      "text/plain": [
       "   Amplitude        RR     Speed   Age  Arrhythmia  Sex_M  Medicine_Yes\n",
       "0   1.169131  1.975000  0.591965  0.51           0      0             1\n",
       "1   1.524159  1.844444  0.826351  0.51           0      0             1\n",
       "2   1.378575  1.869444  0.737425  0.51           0      0             1\n",
       "3   1.191273  1.952778  0.610040  0.51           0      0             1\n",
       "4   1.238591  1.850000  0.669508  0.51           0      0             1"
      ]
     },
     "execution_count": 6,
     "metadata": {},
     "output_type": "execute_result"
    }
   ],
   "source": [
    "labels = list(set(test.Arrhythmia))\n",
    "test['Arrhythmia'] = pd.DataFrame(test.Arrhythmia.map({x:labels.index(x) for x in labels}).rename('Disease'))\n",
    "test.head()"
   ]
  },
  {
   "cell_type": "code",
   "execution_count": 8,
   "id": "a1f82f26",
   "metadata": {},
   "outputs": [
    {
     "data": {
      "text/html": [
       "<div><div id=06ed9878-43e0-47de-9a2c-f7c22d90bc90 style=\"display:none; background-color:#9D6CFF; color:white; width:200px; height:30px; padding-left:5px; border-radius:4px; flex-direction:row; justify-content:space-around; align-items:center;\" onmouseover=\"this.style.backgroundColor='#BA9BF8'\" onmouseout=\"this.style.backgroundColor='#9D6CFF'\" onclick=\"window.commands?.execute('create-mitosheet-from-dataframe-output');\">See Full Dataframe in Mito</div> <script> if (window.commands.hasCommand('create-mitosheet-from-dataframe-output')) document.getElementById('06ed9878-43e0-47de-9a2c-f7c22d90bc90').style.display = 'flex' </script> <table border=\"1\" class=\"dataframe\">\n",
       "  <thead>\n",
       "    <tr style=\"text-align: right;\">\n",
       "      <th></th>\n",
       "      <th>Amplitude</th>\n",
       "      <th>RR</th>\n",
       "      <th>Age</th>\n",
       "      <th>Arrhythmia</th>\n",
       "      <th>Sex_M</th>\n",
       "      <th>Medicine_Yes</th>\n",
       "    </tr>\n",
       "  </thead>\n",
       "  <tbody>\n",
       "    <tr>\n",
       "      <th>0</th>\n",
       "      <td>0.915824</td>\n",
       "      <td>1.841667</td>\n",
       "      <td>0.24</td>\n",
       "      <td>0</td>\n",
       "      <td>0</td>\n",
       "      <td>1</td>\n",
       "    </tr>\n",
       "    <tr>\n",
       "      <th>1</th>\n",
       "      <td>0.794527</td>\n",
       "      <td>1.541667</td>\n",
       "      <td>0.24</td>\n",
       "      <td>0</td>\n",
       "      <td>0</td>\n",
       "      <td>1</td>\n",
       "    </tr>\n",
       "    <tr>\n",
       "      <th>2</th>\n",
       "      <td>0.764521</td>\n",
       "      <td>1.377778</td>\n",
       "      <td>0.24</td>\n",
       "      <td>0</td>\n",
       "      <td>0</td>\n",
       "      <td>1</td>\n",
       "    </tr>\n",
       "    <tr>\n",
       "      <th>3</th>\n",
       "      <td>1.039003</td>\n",
       "      <td>1.591667</td>\n",
       "      <td>0.24</td>\n",
       "      <td>0</td>\n",
       "      <td>0</td>\n",
       "      <td>1</td>\n",
       "    </tr>\n",
       "    <tr>\n",
       "      <th>4</th>\n",
       "      <td>2.003128</td>\n",
       "      <td>1.563889</td>\n",
       "      <td>0.24</td>\n",
       "      <td>0</td>\n",
       "      <td>0</td>\n",
       "      <td>1</td>\n",
       "    </tr>\n",
       "  </tbody>\n",
       "</table></div>"
      ],
      "text/plain": [
       "   Amplitude        RR   Age  Arrhythmia  Sex_M  Medicine_Yes\n",
       "0   0.915824  1.841667  0.24           0      0             1\n",
       "1   0.794527  1.541667  0.24           0      0             1\n",
       "2   0.764521  1.377778  0.24           0      0             1\n",
       "3   1.039003  1.591667  0.24           0      0             1\n",
       "4   2.003128  1.563889  0.24           0      0             1"
      ]
     },
     "execution_count": 8,
     "metadata": {},
     "output_type": "execute_result"
    }
   ],
   "source": [
    "train = train.drop('Speed',axis=1)\n",
    "test = test.drop('Speed',axis=1)\n",
    "train.head()"
   ]
  },
  {
   "cell_type": "markdown",
   "id": "a1607a77",
   "metadata": {},
   "source": [
    "## Training and Testing Variables"
   ]
  },
  {
   "cell_type": "code",
   "execution_count": 9,
   "id": "540bd362",
   "metadata": {},
   "outputs": [],
   "source": [
    "X_train = train.loc[:, train.columns != 'Arrhythmia']\n",
    "X_test = test.loc[:, test.columns != 'Arrhythmia']\n",
    "\n",
    "y_train = train['Arrhythmia']\n",
    "y_test = test['Arrhythmia']"
   ]
  },
  {
   "cell_type": "markdown",
   "id": "71b924ad",
   "metadata": {},
   "source": [
    "## Model and Evaluation"
   ]
  },
  {
   "cell_type": "code",
   "execution_count": 10,
   "id": "b63bcb40",
   "metadata": {},
   "outputs": [
    {
     "name": "stderr",
     "output_type": "stream",
     "text": [
      "c:\\Python\\lib\\site-packages\\xgboost\\sklearn.py:1224: UserWarning: The use of label encoder in XGBClassifier is deprecated and will be removed in a future release. To remove this warning, do the following: 1) Pass option use_label_encoder=False when constructing XGBClassifier object; and 2) Encode your labels (y) as integers starting with 0, i.e. 0, 1, 2, ..., [num_class - 1].\n",
      "  warnings.warn(label_encoder_deprecation_msg, UserWarning)\n"
     ]
    },
    {
     "name": "stdout",
     "output_type": "stream",
     "text": [
      "[20:30:35] WARNING: C:/Users/Administrator/workspace/xgboost-win64_release_1.5.1/src/learner.cc:1115: Starting in XGBoost 1.3.0, the default evaluation metric used with the objective 'multi:softprob' was changed from 'merror' to 'mlogloss'. Explicitly set eval_metric if you'd like to restore the old behavior.\n",
      "Accuracy: 97.98%\n"
     ]
    }
   ],
   "source": [
    "from sklearn.ensemble import RandomForestClassifier\n",
    "from xgboost import XGBClassifier\n",
    "from sklearn.metrics import accuracy_score\n",
    "\n",
    "model = XGBClassifier()\n",
    "model.fit(X_train, y_train)\n",
    "\n",
    "y_pred = model.predict(X_test)\n",
    "predictions = [round(value) for value in y_pred]\n",
    "\n",
    "accuracy = accuracy_score(y_test, predictions)\n",
    "print(\"Accuracy: %.2f%%\" % (accuracy * 100.0))"
   ]
  },
  {
   "cell_type": "code",
   "execution_count": 11,
   "id": "a220188e",
   "metadata": {},
   "outputs": [
    {
     "name": "stdout",
     "output_type": "stream",
     "text": [
      "Accuracy: 99.33%\n"
     ]
    }
   ],
   "source": [
    "from sklearn.svm import SVC\n",
    "from sklearn.metrics import accuracy_score\n",
    "\n",
    "model = SVC(kernel='poly')\n",
    "model.fit(X_train, y_train)\n",
    "\n",
    "y_pred = model.predict(X_test)\n",
    "predictions = [round(value) for value in y_pred]\n",
    "\n",
    "accuracy = accuracy_score(y_test, predictions)\n",
    "print(\"Accuracy: %.2f%%\" % (accuracy * 100.0))\n",
    "\n",
    "import pickle\n",
    "pickle.dump(model, open('pipe.pkl','wb'))"
   ]
  },
  {
   "cell_type": "code",
   "execution_count": 12,
   "id": "83c9965a",
   "metadata": {},
   "outputs": [
    {
     "name": "stdout",
     "output_type": "stream",
     "text": [
      "Accuracy: 98.92%\n"
     ]
    }
   ],
   "source": [
    "from sklearn.ensemble import RandomForestClassifier\n",
    "from sklearn.metrics import accuracy_score\n",
    "\n",
    "model = RandomForestClassifier(n_estimators=10, criterion='entropy')\n",
    "model.fit(X_train, y_train)\n",
    "\n",
    "y_pred = model.predict(X_test)\n",
    "predictions = [round(value) for value in y_pred]\n",
    "\n",
    "accuracy = accuracy_score(y_test, predictions)\n",
    "print(\"Accuracy: %.2f%%\" % (accuracy * 100.0))"
   ]
  },
  {
   "cell_type": "code",
   "execution_count": 13,
   "id": "9a7b3cd8",
   "metadata": {},
   "outputs": [
    {
     "name": "stdout",
     "output_type": "stream",
     "text": [
      "Accuracy: 98.11%\n"
     ]
    }
   ],
   "source": [
    "from sklearn.tree import DecisionTreeClassifier\n",
    "\n",
    "model = DecisionTreeClassifier(max_depth=10)\n",
    "model.fit(X_train, y_train)\n",
    "\n",
    "y_pred = model.predict(X_test)\n",
    "predictions = [round(value) for value in y_pred]\n",
    "\n",
    "accuracy = accuracy_score(y_test, predictions)\n",
    "print(\"Accuracy: %.2f%%\" % (accuracy * 100.0))"
   ]
  },
  {
   "cell_type": "code",
   "execution_count": 15,
   "id": "cb6b0700",
   "metadata": {},
   "outputs": [
    {
     "name": "stdout",
     "output_type": "stream",
     "text": [
      "Accuracy: 60.73%\n"
     ]
    }
   ],
   "source": [
    "from sklearn.naive_bayes import GaussianNB\n",
    "\n",
    "model = GaussianNB()\n",
    "model.fit(X_train, y_train)\n",
    "\n",
    "y_pred = model.predict(X_test)\n",
    "predictions = [round(value) for value in y_pred]\n",
    "\n",
    "accuracy = accuracy_score(y_test, predictions)\n",
    "print(\"Accuracy: %.2f%%\" % (accuracy * 100.0))"
   ]
  },
  {
   "cell_type": "code",
   "execution_count": 16,
   "id": "7b992a81",
   "metadata": {},
   "outputs": [
    {
     "data": {
      "image/png": "[encoded data removed]",
      "text/plain": [
       "<Figure size 3000x1500 with 1 Axes>"
      ]
     },
     "metadata": {
      "needs_background": "light"
     },
     "output_type": "display_data"
    }
   ],
   "source": [
    "import numpy as np\n",
    "import pandas as pd\n",
    "import matplotlib.pyplot as plt\n",
    "%matplotlib inline\n",
    "plt.rcParams.update({'figure.figsize':(10,5), 'figure.dpi':300})\n",
    "\n",
    "x=['XGBoost','SVM','Random Forest','Decision Tree','Gaussian NB']\n",
    "y = (97.84,99.33,98.59,98.11,92.31)\n",
    "\n",
    "plt.bar(x,y,color=('black', 'red', 'green', 'blue', 'yellow'))\n",
    "plt.ylim(bottom=80, top=100)\n",
    "plt.xlabel('Models')\n",
    "plt.ylabel(\"Accuracy\")\n",
    "plt.title('Bar Plot')\n",
    "plt.show()"
   ]
  },
  {
   "cell_type": "code",
   "execution_count": null,
   "id": "c7addc3b",
   "metadata": {},
   "outputs": [],
   "source": []
  }
 ],
 "metadata": {
  "kernelspec": {
   "display_name": "Python 3.9.7 64-bit",
   "language": "python",
   "name": "python3"
  },
  "language_info": {
   "codemirror_mode": {
    "name": "ipython",
    "version": 3
   },
   "file_extension": ".py",
   "mimetype": "text/x-python",
   "name": "python",
   "nbconvert_exporter": "python",
   "pygments_lexer": "ipython3",
   "version": "3.9.7"
  },
  "vscode": {
   "interpreter": {
    "hash": "52634da84371cba311ea128a5ea7cdc41ff074b781779e754b270ff9f8153cee"
   }
  }
 },
 "nbformat": 4,
 "nbformat_minor": 5
}
